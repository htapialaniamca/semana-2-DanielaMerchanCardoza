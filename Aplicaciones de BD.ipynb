{
 "cells": [
  {
   "cell_type": "markdown",
   "metadata": {},
   "source": [
    "# Aplicaciones de Bases de datos\n",
    "### Ejercicios de Primera sesión - Slide 26\n",
    "\n",
    "* \\w: toma cualquier palabra\n",
    "* \\d: solo digitos"
   ]
  },
  {
   "cell_type": "code",
   "execution_count": 1,
   "metadata": {
    "collapsed": true
   },
   "outputs": [],
   "source": [
    "import re"
   ]
  },
  {
   "cell_type": "code",
   "execution_count": 6,
   "metadata": {
    "collapsed": false
   },
   "outputs": [
    {
     "name": "stdout",
     "output_type": "stream",
     "text": [
      "readers@packt.com\n",
      "readers\n",
      "packt.com\n"
     ]
    }
   ],
   "source": [
    "myString = 'From: readers@packt.com (readers email)'\n",
    "result = re.search('([\\w.-]+)@([\\w.-]+)', myString)\n",
    "if result:\n",
    "    print (result.group(0))\n",
    "    print (result.group(1))\n",
    "    print (result.group(2))"
   ]
  },
  {
   "cell_type": "code",
   "execution_count": 7,
   "metadata": {
    "collapsed": false
   },
   "outputs": [
    {
     "name": "stdout",
     "output_type": "stream",
     "text": [
      "['192.168.0.1']\n"
     ]
    }
   ],
   "source": [
    "isIP = re.compile('\\d{1,3}\\.\\d{1,3}\\.\\d{1,3}\\.\\d{1,3}')\n",
    "myString = \"Your IP is: 192.168.0.1\"\n",
    "result = re.findall(isIP, myString)\n",
    "print result"
   ]
  },
  {
   "cell_type": "markdown",
   "metadata": {},
   "source": [
    "La siguiente expresión regular (isDate) no filtra correctamente"
   ]
  },
  {
   "cell_type": "code",
   "execution_count": 14,
   "metadata": {
    "collapsed": false
   },
   "outputs": [
    {
     "name": "stdout",
     "output_type": "stream",
     "text": [
      "valid\n"
     ]
    }
   ],
   "source": [
    "myString = \"00/00/2001\"\n",
    "isDate = re.match('[0-1][0-9]\\/[0-3][0-9]\\/[1-2][0-9]{3}',myString)\n",
    "if isDate:\n",
    "    print (\"valid\")\n",
    "else:\n",
    "    print(\"invalid\")"
   ]
  },
  {
   "cell_type": "markdown",
   "metadata": {},
   "source": [
    "### Nodos JSON anidados - Slide 31"
   ]
  },
  {
   "cell_type": "code",
   "execution_count": 15,
   "metadata": {
    "collapsed": false
   },
   "outputs": [
    {
     "data": {
      "text/plain": [
       "[{'id': '001', 'name': 'Bulbasaur', 'type': 'grass', 'typeTwo': 'Poison'},\n",
       " {'id': '002', 'name': 'Ivysaur', 'type': 'grass', 'typeTwo': 'Poison'},\n",
       " {'id': '003', 'name': 'Venussur', 'type': 'grass', 'typeTwo': 'Poison'}]"
      ]
     },
     "execution_count": 15,
     "metadata": {},
     "output_type": "execute_result"
    }
   ],
   "source": [
    "[\n",
    "    {\n",
    "        \"id\":\"001\",\n",
    "        \"typeTwo\": \"Poison\",\n",
    "        \"name\": \"Bulbasaur\",\n",
    "        \"type\": \"grass\"\n",
    "    },\n",
    "    {\n",
    "        \"id\":\"002\",\n",
    "        \"typeTwo\": \"Poison\",\n",
    "        \"name\": \"Ivysaur\",\n",
    "        \"type\": \"grass\"\n",
    "    },\n",
    "    {\n",
    "        \"id\":\"003\",\n",
    "        \"typeTwo\": \"Poison\",\n",
    "        \"name\": \"Venussur\",\n",
    "        \"type\": \"grass\"\n",
    "    }\n",
    "]"
   ]
  },
  {
   "cell_type": "code",
   "execution_count": null,
   "metadata": {
    "collapsed": true
   },
   "outputs": [],
   "source": []
  }
 ],
 "metadata": {
  "kernelspec": {
   "display_name": "Python 2",
   "language": "python",
   "name": "python2"
  },
  "language_info": {
   "codemirror_mode": {
    "name": "ipython",
    "version": 2
   },
   "file_extension": ".py",
   "mimetype": "text/x-python",
   "name": "python",
   "nbconvert_exporter": "python",
   "pygments_lexer": "ipython2",
   "version": "2.7.13"
  }
 },
 "nbformat": 4,
 "nbformat_minor": 2
}
