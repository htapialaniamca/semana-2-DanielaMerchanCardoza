{
 "cells": [
  {
   "cell_type": "markdown",
   "metadata": {},
   "source": [
    "# Computo de alto desempeño\n",
    "## Elízabeth Daniela Merchán Cardoza\n",
    "\n",
    "#### Semana 2 - Mayo 10\n",
    "Importar liberias necesarias y verificar versiones\n",
    "#### Objetivo: \n",
    "Configurar el software que se usarádurante el curso para desarrollar aplicaciones de computo paralelo"
   ]
  },
  {
   "cell_type": "code",
   "execution_count": 1,
   "metadata": {
    "collapsed": false
   },
   "outputs": [
    {
     "name": "stdout",
     "output_type": "stream",
     "text": [
      "1.11.3\n",
      "0.19.2\n",
      "2.0.0\n",
      "6.0.2\n"
     ]
    }
   ],
   "source": [
    "import numpy as np\n",
    "print np.__version__\n",
    "\n",
    "import pandas as pd\n",
    "print pd.__version__\n",
    "\n",
    "import matplotlib as plt\n",
    "print plt.__version__\n",
    "\n",
    "import ipyparallel as ipp\n",
    "print ipp.__version__"
   ]
  },
  {
   "cell_type": "markdown",
   "metadata": {
    "collapsed": true
   },
   "source": [
    "##### Modulo ipypararrel instalado correctamente\n",
    "Luego de importar el modulo se crea la instancia _Cliente_:\n",
    "Se deben ingresar primero los motores con los que se ejecutará la instancia"
   ]
  },
  {
   "cell_type": "code",
   "execution_count": 2,
   "metadata": {
    "collapsed": false
   },
   "outputs": [],
   "source": [
    "c = ipp.Client()"
   ]
  },
  {
   "cell_type": "markdown",
   "metadata": {},
   "source": [
    "## Motores conectados al controlador\n",
    "Se ejecuta la siguiente instrucción para ver la lista de ids de los motores disponibles. Debe coincidir con el numero especificado anteriormente."
   ]
  },
  {
   "cell_type": "code",
   "execution_count": 3,
   "metadata": {
    "collapsed": false
   },
   "outputs": [
    {
     "data": {
      "text/plain": [
       "[0, 1, 2, 3, 4, 5, 6, 7]"
      ]
     },
     "execution_count": 3,
     "metadata": {},
     "output_type": "execute_result"
    }
   ],
   "source": [
    "c.ids"
   ]
  },
  {
   "cell_type": "code",
   "execution_count": 4,
   "metadata": {
    "collapsed": false
   },
   "outputs": [
    {
     "data": {
      "text/plain": [
       "<ipyparallel.client.client.Client at 0x5f49e80>"
      ]
     },
     "execution_count": 4,
     "metadata": {},
     "output_type": "execute_result"
    }
   ],
   "source": [
    "c"
   ]
  },
  {
   "cell_type": "markdown",
   "metadata": {},
   "source": [
    "Esta forma supone que la coneccion de facto es correcta. Dicha informacion puede verse en $IPYTHONDIR/profile_default/security_$, así:"
   ]
  },
  {
   "cell_type": "code",
   "execution_count": 5,
   "metadata": {
    "collapsed": false
   },
   "outputs": [
    {
     "name": "stdout",
     "output_type": "stream",
     "text": [
      " El volumen de la unidad C no tiene etiqueta.\n",
      " El n£mero de serie del volumen es: D4F5-8218\n",
      "\n",
      " Directorio de C:\\Users\\AlbertoC\\.ipython\\profile_default\\security\n",
      "\n",
      "15/05/2017  04:28 p.m.    <DIR>          .\n",
      "15/05/2017  04:28 p.m.    <DIR>          ..\n",
      "15/05/2017  04:28 p.m.               382 ipcontroller-client.json\n",
      "15/05/2017  04:28 p.m.               367 ipcontroller-engine.json\n",
      "               2 archivos            749 bytes\n",
      "               2 dirs  310.550.310.912 bytes libres\n"
     ]
    }
   ],
   "source": [
    "!dir C:\\Users\\AlbertoC\\.ipython\\profile_default\\security"
   ]
  },
  {
   "cell_type": "markdown",
   "metadata": {},
   "source": [
    "Se verifcica la información del archivo:"
   ]
  },
  {
   "cell_type": "code",
   "execution_count": 6,
   "metadata": {
    "collapsed": false
   },
   "outputs": [
    {
     "data": {
      "text/plain": [
       "{'control': 59373,\n",
       " 'interface': 'tcp://127.0.0.1',\n",
       " 'iopub': 59381,\n",
       " 'key': '2882a98e-89b1-41d2-8012-c841999823b6',\n",
       " 'location': '192.168.0.13',\n",
       " 'mux': 59375,\n",
       " 'notification': 59383,\n",
       " 'pack': 'json',\n",
       " 'registration': 59367,\n",
       " 'signature_scheme': 'hmac-sha256',\n",
       " 'ssh': '',\n",
       " 'task': 59379,\n",
       " 'task_scheme': 'leastload',\n",
       " 'unpack': 'json'}"
      ]
     },
     "execution_count": 6,
     "metadata": {},
     "output_type": "execute_result"
    }
   ],
   "source": [
    "# %load C:\\Users\\AlbertoC\\.ipython\\profile_default\\security\\ipcontroller-client.json\n",
    "{\n",
    "  \"control\": 59373, \n",
    "  \"task\": 59379, \n",
    "  \"notification\": 59383, \n",
    "  \"task_scheme\": \"leastload\", \n",
    "  \"mux\": 59375, \n",
    "  \"iopub\": 59381, \n",
    "  \"ssh\": \"\", \n",
    "  \"key\": \"2882a98e-89b1-41d2-8012-c841999823b6\", \n",
    "  \"registration\": 59367, \n",
    "  \"interface\": \"tcp://127.0.0.1\", \n",
    "  \"signature_scheme\": \"hmac-sha256\", \n",
    "  \"pack\": \"json\", \n",
    "  \"unpack\": \"json\", \n",
    "  \"location\": \"192.168.0.13\"\n",
    "}"
   ]
  },
  {
   "cell_type": "markdown",
   "metadata": {},
   "source": [
    "## Ejecucion directa\n",
    "Para la ejecucion directa usamos un objeto DirectView que puede construirse a partir de la lista de acceso al cliente:"
   ]
  },
  {
   "cell_type": "code",
   "execution_count": 7,
   "metadata": {
    "collapsed": false
   },
   "outputs": [
    {
     "data": {
      "text/plain": [
       "<DirectView [0, 1, 2, 3,...]>"
      ]
     },
     "execution_count": 7,
     "metadata": {},
     "output_type": "execute_result"
    }
   ],
   "source": [
    "c[:]"
   ]
  },
  {
   "cell_type": "code",
   "execution_count": 8,
   "metadata": {
    "collapsed": false
   },
   "outputs": [
    {
     "data": {
      "text/plain": [
       "'Hola alumnos'"
      ]
     },
     "execution_count": 8,
     "metadata": {},
     "output_type": "execute_result"
    }
   ],
   "source": [
    "\"Hola alumnos\""
   ]
  },
  {
   "cell_type": "code",
   "execution_count": 11,
   "metadata": {
    "collapsed": false
   },
   "outputs": [
    {
     "data": {
      "text/plain": [
       "'Hola alumnos'"
      ]
     },
     "execution_count": 11,
     "metadata": {},
     "output_type": "execute_result"
    }
   ],
   "source": [
    "# utiliza solo un motor\n",
    "c[0].apply_sync(lambda : \"Hola alumnos\") "
   ]
  },
  {
   "cell_type": "code",
   "execution_count": 12,
   "metadata": {
    "collapsed": false
   },
   "outputs": [
    {
     "data": {
      "text/plain": [
       "['Hola alumnos',\n",
       " 'Hola alumnos',\n",
       " 'Hola alumnos',\n",
       " 'Hola alumnos',\n",
       " 'Hola alumnos',\n",
       " 'Hola alumnos',\n",
       " 'Hola alumnos',\n",
       " 'Hola alumnos']"
      ]
     },
     "execution_count": 12,
     "metadata": {},
     "output_type": "execute_result"
    }
   ],
   "source": [
    "# utiliza todos los motores que se definieron inicialmente\n",
    "c[:].apply_sync(lambda : \"Hola alumnos\") "
   ]
  },
  {
   "cell_type": "code",
   "execution_count": 13,
   "metadata": {
    "collapsed": false
   },
   "outputs": [
    {
     "data": {
      "text/plain": [
       "['Hola alumnos',\n",
       " 'Hola alumnos',\n",
       " 'Hola alumnos',\n",
       " 'Hola alumnos',\n",
       " 'Hola alumnos',\n",
       " 'Hola alumnos',\n",
       " 'Hola alumnos',\n",
       " 'Hola alumnos']"
      ]
     },
     "execution_count": 13,
     "metadata": {},
     "output_type": "execute_result"
    }
   ],
   "source": [
    "#se asignan todos los motores a una varible\n",
    "dview = c[:]\n",
    "dview.apply_sync(lambda : \"Hola alumnos\")"
   ]
  },
  {
   "cell_type": "code",
   "execution_count": 14,
   "metadata": {
    "collapsed": false
   },
   "outputs": [
    {
     "data": {
      "text/plain": [
       "<DirectView [0, 1, 2, 3,...]>"
      ]
     },
     "execution_count": 14,
     "metadata": {},
     "output_type": "execute_result"
    }
   ],
   "source": [
    "#debe mostrar la lista de todos los motores\n",
    "dview "
   ]
  },
  {
   "cell_type": "code",
   "execution_count": 18,
   "metadata": {
    "collapsed": false
   },
   "outputs": [],
   "source": [
    "#equivalente a dview = c[:] \n",
    "dview = c.direct_view()"
   ]
  },
  {
   "cell_type": "markdown",
   "metadata": {},
   "source": [
    "Id de procesos de cada motor"
   ]
  },
  {
   "cell_type": "code",
   "execution_count": 19,
   "metadata": {
    "collapsed": false
   },
   "outputs": [
    {
     "data": {
      "text/plain": [
       "[5076, 10408, 8132, 8492, 6424, 10544, 4232, 9464]"
      ]
     },
     "execution_count": 19,
     "metadata": {},
     "output_type": "execute_result"
    }
   ],
   "source": [
    "#modulo del sistema operativo\n",
    "import os \n",
    "dview.apply_sync(os.getpid)"
   ]
  },
  {
   "cell_type": "code",
   "execution_count": 20,
   "metadata": {
    "collapsed": false
   },
   "outputs": [
    {
     "data": {
      "text/plain": [
       "['DESKTOP-06SSJNP',\n",
       " 'DESKTOP-06SSJNP',\n",
       " 'DESKTOP-06SSJNP',\n",
       " 'DESKTOP-06SSJNP',\n",
       " 'DESKTOP-06SSJNP',\n",
       " 'DESKTOP-06SSJNP',\n",
       " 'DESKTOP-06SSJNP',\n",
       " 'DESKTOP-06SSJNP']"
      ]
     },
     "execution_count": 20,
     "metadata": {},
     "output_type": "execute_result"
    }
   ],
   "source": [
    "import socket\n",
    "dview.apply_sync(socket.gethostname)"
   ]
  },
  {
   "cell_type": "markdown",
   "metadata": {},
   "source": [
    "## Direct view\n",
    "* Una vista proporciona acceso a un subconjunto de motores disponibles para el cliente\n",
    "* Las tareas se asignan a los motores usando la vista\n",
    "* DirectView permite enviar tareas de manera explicita a un motor especifico\n",
    "\n",
    "### Ejercicio con direct view\n",
    "Sumemos 10 conjuntos de 3 numeros en paralelo usando todos los motores en la vista"
   ]
  },
  {
   "cell_type": "code",
   "execution_count": 24,
   "metadata": {
    "collapsed": false
   },
   "outputs": [
    {
     "data": {
      "text/plain": [
       "[0, 3, 6, 9, 12, 15, 18, 21, 24, 27]"
      ]
     },
     "execution_count": 24,
     "metadata": {},
     "output_type": "execute_result"
    }
   ],
   "source": [
    "dview.map_sync(lambda x, y, z: x+y+z, range(10), range(10), range(10))"
   ]
  },
  {
   "cell_type": "markdown",
   "metadata": {},
   "source": [
    "Ahora sumemos 10 conjuntos de 3 numeros en paralelo usando motores alternados"
   ]
  },
  {
   "cell_type": "code",
   "execution_count": 25,
   "metadata": {
    "collapsed": false
   },
   "outputs": [
    {
     "data": {
      "text/plain": [
       "[0, 3, 6, 9, 12, 15, 18, 21, 24, 27]"
      ]
     },
     "execution_count": 25,
     "metadata": {},
     "output_type": "execute_result"
    }
   ],
   "source": [
    "#usa motores alternando de 2 en 2\n",
    "c[::2].map_sync(lambda x, y, z: x + y + z, range(10), range(10), range(10))"
   ]
  },
  {
   "cell_type": "markdown",
   "metadata": {},
   "source": [
    "Sumemos 10 conjuntos de 3 numeros usando un motor especifico: 3"
   ]
  },
  {
   "cell_type": "code",
   "execution_count": 26,
   "metadata": {
    "collapsed": false
   },
   "outputs": [
    {
     "data": {
      "text/plain": [
       "[0, 3, 6, 9, 12, 15, 18, 21, 24, 27]"
      ]
     },
     "execution_count": 26,
     "metadata": {},
     "output_type": "execute_result"
    }
   ],
   "source": [
    "c[3].map_sync(lambda x, y, z: x + y + z, range(10), range(10), range(10))"
   ]
  },
  {
   "cell_type": "markdown",
   "metadata": {},
   "source": [
    "## Load balanced view\n",
    "* LoadBalancedView administra la distribucion de tareas y es útil cuando se tienen muchas tareas que toman diferentes tiempos para ejecutarse\n",
    "\n",
    "Se importa numpy en caso de no haberlo hecho:\n",
    "<hb>_import numy as np_\n"
   ]
  },
  {
   "cell_type": "code",
   "execution_count": 27,
   "metadata": {
    "collapsed": true
   },
   "outputs": [],
   "source": [
    "lview = c.load_balanced_view()"
   ]
  },
  {
   "cell_type": "code",
   "execution_count": 28,
   "metadata": {
    "collapsed": false
   },
   "outputs": [
    {
     "data": {
      "text/plain": [
       "[500379.54873063433,\n",
       " 500265.9273859883,\n",
       " 499621.99576848734,\n",
       " 499992.52688407147,\n",
       " 500462.73619443586,\n",
       " 500036.53806735872,\n",
       " 500099.71843747899,\n",
       " 500048.75071417756,\n",
       " 499789.927545354,\n",
       " 500312.10932609549]"
      ]
     },
     "execution_count": 28,
     "metadata": {},
     "output_type": "execute_result"
    }
   ],
   "source": [
    "lview.map_sync(lambda x: sum(x), np.random.random((10,1000000)))"
   ]
  },
  {
   "cell_type": "markdown",
   "metadata": {},
   "source": [
    "## Map\n",
    "Python tiene una funcion interna llamada map que permite aplicar cualquier funcion lemento a elemente a una secuencia. Para este ejemplo utilizaremos una funcion muy sencilla definida a continuacion."
   ]
  },
  {
   "cell_type": "code",
   "execution_count": 30,
   "metadata": {
    "collapsed": false
   },
   "outputs": [
    {
     "data": {
      "text/plain": [
       "8"
      ]
     },
     "execution_count": 30,
     "metadata": {},
     "output_type": "execute_result"
    }
   ],
   "source": [
    "def cubo(x):\n",
    "    return x**3\n",
    "cubo(2)"
   ]
  },
  {
   "cell_type": "code",
   "execution_count": 33,
   "metadata": {
    "collapsed": false
   },
   "outputs": [
    {
     "data": {
      "text/plain": [
       "[1, 8, 27, 64, 125, 216]"
      ]
     },
     "execution_count": 33,
     "metadata": {},
     "output_type": "execute_result"
    }
   ],
   "source": [
    "lista1 = [cubo(x) for x in range (1,7)]\n",
    "lista1"
   ]
  },
  {
   "cell_type": "code",
   "execution_count": 35,
   "metadata": {
    "collapsed": false
   },
   "outputs": [
    {
     "data": {
      "text/plain": [
       "[1, 8, 27, 64, 125, 216]"
      ]
     },
     "execution_count": 35,
     "metadata": {},
     "output_type": "execute_result"
    }
   ],
   "source": [
    "map(cubo, range(1,7))"
   ]
  },
  {
   "cell_type": "code",
   "execution_count": 38,
   "metadata": {
    "collapsed": false
   },
   "outputs": [
    {
     "data": {
      "text/plain": [
       "[1,\n",
       " 8,\n",
       " 27,\n",
       " 64,\n",
       " 125,\n",
       " 216,\n",
       " 343,\n",
       " 512,\n",
       " 729,\n",
       " 1000,\n",
       " 1331,\n",
       " 1728,\n",
       " 2197,\n",
       " 2744,\n",
       " 3375,\n",
       " 4096,\n",
       " 4913,\n",
       " 5832,\n",
       " 6859,\n",
       " 8000,\n",
       " 9261,\n",
       " 10648,\n",
       " 12167,\n",
       " 13824,\n",
       " 15625,\n",
       " 17576,\n",
       " 19683,\n",
       " 21952,\n",
       " 24389,\n",
       " 27000,\n",
       " 29791,\n",
       " 32768,\n",
       " 35937,\n",
       " 39304,\n",
       " 42875,\n",
       " 46656,\n",
       " 50653,\n",
       " 54872,\n",
       " 59319,\n",
       " 64000,\n",
       " 68921,\n",
       " 74088,\n",
       " 79507,\n",
       " 85184,\n",
       " 91125,\n",
       " 97336,\n",
       " 103823,\n",
       " 110592,\n",
       " 117649,\n",
       " 125000,\n",
       " 132651,\n",
       " 140608,\n",
       " 148877,\n",
       " 157464,\n",
       " 166375,\n",
       " 175616,\n",
       " 185193,\n",
       " 195112,\n",
       " 205379,\n",
       " 216000,\n",
       " 226981,\n",
       " 238328,\n",
       " 250047,\n",
       " 262144,\n",
       " 274625,\n",
       " 287496,\n",
       " 300763,\n",
       " 314432,\n",
       " 328509]"
      ]
     },
     "execution_count": 38,
     "metadata": {},
     "output_type": "execute_result"
    }
   ],
   "source": [
    "serial = map(cubo, range(1,70))\n",
    "serial"
   ]
  },
  {
   "cell_type": "code",
   "execution_count": 39,
   "metadata": {
    "collapsed": true
   },
   "outputs": [],
   "source": [
    "parallel = dview.map_sync(cube, range(1,70))"
   ]
  },
  {
   "cell_type": "code",
   "execution_count": 40,
   "metadata": {
    "collapsed": false
   },
   "outputs": [
    {
     "data": {
      "text/plain": [
       "True"
      ]
     },
     "execution_count": 40,
     "metadata": {},
     "output_type": "execute_result"
    }
   ],
   "source": [
    "serial == parallel"
   ]
  },
  {
   "cell_type": "code",
   "execution_count": 41,
   "metadata": {
    "collapsed": false
   },
   "outputs": [
    {
     "name": "stdout",
     "output_type": "stream",
     "text": [
      "100000 loops, best of 3: 12.3 µs per loop\n",
      "10 loops, best of 3: 96.2 ms per loop\n"
     ]
    }
   ],
   "source": [
    "%timeit map(cube, range(1,70))\n",
    "%timeit dview.map_sync(cube, range(1,70))"
   ]
  },
  {
   "cell_type": "code",
   "execution_count": 42,
   "metadata": {
    "collapsed": false
   },
   "outputs": [
    {
     "data": {
      "text/plain": [
       "[1, 8, 27, 64, 125, 216]"
      ]
     },
     "execution_count": 42,
     "metadata": {},
     "output_type": "execute_result"
    }
   ],
   "source": [
    "dview.map_sync(cube, range(1,7))"
   ]
  },
  {
   "cell_type": "code",
   "execution_count": 43,
   "metadata": {
    "collapsed": false
   },
   "outputs": [
    {
     "data": {
      "text/plain": [
       "[0, 4, 18, 40]"
      ]
     },
     "execution_count": 43,
     "metadata": {},
     "output_type": "execute_result"
    }
   ],
   "source": [
    "def multi(a,b):\n",
    "    return a*b\n",
    "dview.map_sync(multi, [0,1,3,5],[2,4,6,8])"
   ]
  },
  {
   "cell_type": "code",
   "execution_count": 44,
   "metadata": {
    "collapsed": true
   },
   "outputs": [],
   "source": [
    "PrimeQ = lambda x: all(x % i != 0 for i in range(int(x**0.5)+1)[2:]) and x>1"
   ]
  },
  {
   "cell_type": "code",
   "execution_count": 46,
   "metadata": {
    "collapsed": false
   },
   "outputs": [
    {
     "data": {
      "text/plain": [
       "True"
      ]
     },
     "execution_count": 46,
     "metadata": {},
     "output_type": "execute_result"
    }
   ],
   "source": [
    "PrimeQ(2)"
   ]
  },
  {
   "cell_type": "code",
   "execution_count": 47,
   "metadata": {
    "collapsed": false
   },
   "outputs": [
    {
     "data": {
      "text/plain": [
       "False"
      ]
     },
     "execution_count": 47,
     "metadata": {},
     "output_type": "execute_result"
    }
   ],
   "source": [
    "PrimeQ(28)"
   ]
  },
  {
   "cell_type": "code",
   "execution_count": 49,
   "metadata": {
    "collapsed": false
   },
   "outputs": [
    {
     "data": {
      "text/plain": [
       "True"
      ]
     },
     "execution_count": 49,
     "metadata": {},
     "output_type": "execute_result"
    }
   ],
   "source": [
    "PrimeQ(23)"
   ]
  },
  {
   "cell_type": "code",
   "execution_count": null,
   "metadata": {
    "collapsed": true
   },
   "outputs": [],
   "source": []
  }
 ],
 "metadata": {
  "kernelspec": {
   "display_name": "Python 2",
   "language": "python",
   "name": "python2"
  },
  "language_info": {
   "codemirror_mode": {
    "name": "ipython",
    "version": 2
   },
   "file_extension": ".py",
   "mimetype": "text/x-python",
   "name": "python",
   "nbconvert_exporter": "python",
   "pygments_lexer": "ipython2",
   "version": "2.7.13"
  }
 },
 "nbformat": 4,
 "nbformat_minor": 2
}
