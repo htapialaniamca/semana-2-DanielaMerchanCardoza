{
 "cells": [
  {
   "cell_type": "markdown",
   "metadata": {
    "collapsed": true
   },
   "source": [
    "# Ejercicios\n",
    "Determinar si un numero de la forma $2^n -1$, donde $n$ es un entero, es primo o no. Los primos que tienen esta forma se llaman primos de Mersenne.\n",
    "1. Escribir una funcion que determine si el numero dado por $2^n -1$ es primo (usar la funcion anterior)\n",
    "2. Seleccionar los primos de Mersenne de entre los primeros 5000 numeros enteros (nota: el resultado es {2, 3, 5, 7, 13, 17, 19, 31, 61, 89, 107, 127, 521, 607, 1279, 2203, 2281, 3217, 4253, 4423}\n",
    "3. Estimar el tiempo que su computadora tarda en encontrar los primero 5000 primos de Mersenne"
   ]
  },
  {
   "cell_type": "code",
   "execution_count": 1,
   "metadata": {
    "collapsed": true
   },
   "outputs": [],
   "source": [
    "import numpy as np\n",
    "import pandas as pd\n",
    "import ipyparallel as ipp\n",
    "import matplotlib as plt"
   ]
  },
  {
   "cell_type": "markdown",
   "metadata": {},
   "source": [
    "#### 1. Escribir una funcion que determine si el numero dado por $2^n -1$ es primo (usar la funcion anterior)"
   ]
  },
  {
   "cell_type": "code",
   "execution_count": 2,
   "metadata": {
    "collapsed": false
   },
   "outputs": [],
   "source": [
    "PrimeQ = lambda x: all(x % i != 0 for i in range(int(x**0.5)+1)[2:]) and x>1\n",
    "ListaPrimosVF = [PrimeQ(2**n-1) for n in range(50)]"
   ]
  },
  {
   "cell_type": "markdown",
   "metadata": {},
   "source": [
    "#### 2. Seleccionar los primos de Mersenne de entre los primeros 5000 numeros enteros (nota: el resultado es {2, 3, 5, 7, 13, 17, 19, 31, 61, 89, 107, 127, 521, 607, 1279, 2203, 2281, 3217, 4253, 4423}\n",
    "Números que sacan los primos de Mersenne"
   ]
  },
  {
   "cell_type": "code",
   "execution_count": 3,
   "metadata": {
    "collapsed": false
   },
   "outputs": [
    {
     "name": "stdout",
     "output_type": "stream",
     "text": [
      "2\n",
      "3\n",
      "5\n",
      "7\n",
      "13\n",
      "17\n",
      "19\n",
      "31\n"
     ]
    }
   ],
   "source": [
    "for x in range (49):\n",
    "    if (ListaPrimosVF[x] == True):\n",
    "        print x"
   ]
  },
  {
   "cell_type": "markdown",
   "metadata": {},
   "source": [
    "Primos de Mersenme"
   ]
  },
  {
   "cell_type": "code",
   "execution_count": 4,
   "metadata": {
    "collapsed": false
   },
   "outputs": [
    {
     "name": "stdout",
     "output_type": "stream",
     "text": [
      "3\n",
      "7\n",
      "31\n",
      "127\n",
      "8191\n",
      "131071\n",
      "524287\n",
      "2147483647\n"
     ]
    }
   ],
   "source": [
    "for x in range (49):\n",
    "    if (ListaPrimosVF[x] == True):\n",
    "        print 2**x-1"
   ]
  },
  {
   "cell_type": "markdown",
   "metadata": {},
   "source": [
    "#### 3. Estimar el tiempo que su computadora tarda en encontrar los primero 5000 primos de Mersenne"
   ]
  },
  {
   "cell_type": "code",
   "execution_count": 5,
   "metadata": {
    "collapsed": false
   },
   "outputs": [
    {
     "name": "stdout",
     "output_type": "stream",
     "text": [
      "1 loop, best of 3: 2.67 s per loop\n"
     ]
    }
   ],
   "source": [
    "%timeit ListaPrimosVF = [PrimeQ(2**n-1) for n in range(50)]"
   ]
  },
  {
   "cell_type": "markdown",
   "metadata": {},
   "source": [
    "La memoria del computador soporta sólo hasta el número 50, con un número mayor, por ejemplo, 100 aparece el siguiente error:"
   ]
  },
  {
   "cell_type": "markdown",
   "metadata": {},
   "source": [
    "Error de memoria insuficiente\n",
    "<a href=\"https://github.com/htapialaniamca/semana-2-DanielaMerchanCardoza/blob/master/MemoriaInsuficiente.jpg\">Ver error</a> "
   ]
  }
 ],
 "metadata": {
  "kernelspec": {
   "display_name": "Python 2",
   "language": "python",
   "name": "python2"
  },
  "language_info": {
   "codemirror_mode": {
    "name": "ipython",
    "version": 2
   },
   "file_extension": ".py",
   "mimetype": "text/x-python",
   "name": "python",
   "nbconvert_exporter": "python",
   "pygments_lexer": "ipython2",
   "version": "2.7.13"
  }
 },
 "nbformat": 4,
 "nbformat_minor": 2
}
